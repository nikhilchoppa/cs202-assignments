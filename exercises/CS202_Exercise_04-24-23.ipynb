{
 "cells": [
  {
   "cell_type": "markdown",
   "metadata": {},
   "source": [
    "# CS202: Compiler Construction\n",
    "\n",
    "## In-class Exercises, Week of 04/24/2023\n",
    "\n",
    "----"
   ]
  },
  {
   "cell_type": "markdown",
   "metadata": {},
   "source": [
    "# Lexical and Dynamic Scope"
   ]
  },
  {
   "cell_type": "markdown",
   "metadata": {},
   "source": [
    "## Question 1\n",
    "\n",
    "What is the output of this program under *lexical scope*?"
   ]
  },
  {
   "cell_type": "code",
   "execution_count": null,
   "metadata": {},
   "outputs": [],
   "source": [
    "z = 1\n",
    "def f():\n",
    "    z = 3\n",
    "    def g():\n",
    "        print(z)\n",
    "    return g\n",
    "\n",
    "z = 5\n",
    "f()()"
   ]
  },
  {
   "cell_type": "markdown",
   "metadata": {},
   "source": [
    "The answer is 3, becase we use the environment when 'g' was defined, not when it was called. "
   ]
  },
  {
   "cell_type": "markdown",
   "metadata": {},
   "source": [
    "## Question 2\n",
    "\n",
    "What would the output be under *dynamic scope*?"
   ]
  },
  {
   "cell_type": "markdown",
   "metadata": {},
   "source": [
    "The answer would be '5', because we used the environment that existed when 'g' was called, in which z=5."
   ]
  },
  {
   "cell_type": "markdown",
   "metadata": {},
   "source": [
    "## Question 3\n",
    "\n",
    "What is the difference between lexical and dynamic scope?"
   ]
  },
  {
   "cell_type": "markdown",
   "metadata": {},
   "source": [
    "When evaluating a function body when the function is called:\n",
    "- Lexical scope uses the environment that existed when the function was defined\n",
    "- Dynamic scope uses the environment that existed when the function was called\n",
    "\n",
    "When writing an interpreter, lexical scope is harder to implement than dynamic scope. Dynamic scope is 'natural' when writing an interpreter."
   ]
  },
  {
   "cell_type": "markdown",
   "metadata": {},
   "source": [
    "## Question 4\n",
    "\n",
    "What is the output of the following code?"
   ]
  },
  {
   "cell_type": "code",
   "execution_count": null,
   "metadata": {},
   "outputs": [],
   "source": [
    "for i in range(10):\n",
    "    i = i + 1\n",
    "print(i)"
   ]
  },
  {
   "cell_type": "markdown",
   "metadata": {},
   "source": [
    "The output is 10, not an error message\n",
    "\n",
    "When a 'new scope' starts in Python, it does use lexical scope, but when saving the environment, it saves a POINTER to the current environment, rather than a copy of the values in the environemt. "
   ]
  },
  {
   "cell_type": "markdown",
   "metadata": {},
   "source": [
    "----\n",
    "# Closure Conversion"
   ]
  },
  {
   "cell_type": "markdown",
   "metadata": {},
   "source": [
    "## Question 5\n",
    "\n",
    "Transform the following program into an `Llambda` program by performing closure conversion.\n",
    "\n",
    "```\n",
    "z = 1\n",
    "def f():\n",
    "    z = 3\n",
    "    def g():\n",
    "        print(z)\n",
    "    return g\n",
    "\n",
    "z = 5\n",
    "f()()\n",
    "```"
   ]
  },
  {
   "cell_type": "code",
   "execution_count": 6,
   "metadata": {},
   "outputs": [
    {
     "name": "stdout",
     "output_type": "stream",
     "text": [
      "3\n"
     ]
    }
   ],
   "source": [
    "from typing import Tuple\n",
    "\n",
    "# closure representation : \n",
    "#tuple with :\n",
    "#- pointer to the function itself \n",
    "# - values for all function's free variables\n",
    "# change functions so they take their own closures as an argument\n",
    "# before doing anything else, read values of free variables from the closure argument\n",
    "z = 1\n",
    "def f_fun(closure):\n",
    "    z = 3\n",
    "    def g_fun(closure):\n",
    "        z= closure[1]\n",
    "        print(z)\n",
    "    g = (g_fun,z)\n",
    "    z= 50\n",
    "    # z's value here is it's value at *function definition time*\n",
    "    return g\n",
    "f = (f_fun,) # f has no free variables\n",
    "\n",
    "z = 5\n",
    "tmp1 = f[0](f) # turn function calls f() into f[0](f, args....)\n",
    "#tmp1()\n",
    "tmp1[0](tmp1)"
   ]
  },
  {
   "cell_type": "markdown",
   "metadata": {},
   "source": [
    "## Question 6\n",
    "\n",
    "Describe the steps of closure conversion."
   ]
  },
  {
   "cell_type": "markdown",
   "metadata": {},
   "source": [
    "There are three major steps :\n",
    "1. Modify the function definition to construct a closure representation\n",
    "    - Our representation is a tuple\n",
    "    - First value is a pointer to the function itself\n",
    "    - Later values are the values of free variables from the function definition\n",
    "\n",
    "2. Modify the function itself to take closure representaion as an argument and initialize closed-over variables to the values they have in closure representation.\n",
    "    - Rename the function definition\n",
    "    - change the arguments of the function to include closure representation\n",
    "3. Modify the function calls of the form `f(args....)` to `f[0](f,args....)`"
   ]
  },
  {
   "cell_type": "markdown",
   "metadata": {},
   "source": [
    "## Question 7\n",
    "\n",
    "Describe the changes to the compiler required to implement closure conversion."
   ]
  },
  {
   "cell_type": "markdown",
   "metadata": {},
   "source": [
    "Add one new pass after the second typechecker called `convert_to_closures`.\n",
    "- It has similar structure to RCO\n",
    "- It performs the transformation from question 6\n",
    "- In cc_stmt, for the function definition case, do the transformation described above \n",
    "    - Find the free variables of the function definiton\n",
    "    - Modify the function def (1st stmt)\n",
    "    - Construct the closure representation (2nd stmt)\n",
    "    - one solution: modify global list of functions so that you know new name of the function is function\n",
    "- In cc_exp, for the Call case, do the transformation described above\n",
    "    - Modify all function calls to closure representation ( even if they have no free variables)\n",
    "\n",
    "Other changes : \n",
    "- Implement lexical scope in typechecker(happens by default)\n",
    "- Before : typechecker stores the names of all functions\n",
    "- After : \"functions\" will be represented by closures\n",
    "\n",
    "Select Instructions :\n",
    "\n",
    "- Variable case : Assign(x,Var(y)) when y is a function\n",
    "    - Before: turned into leaq instruction\n"
   ]
  },
  {
   "cell_type": "markdown",
   "metadata": {},
   "source": [
    "----\n",
    "# Dynamic Typing"
   ]
  },
  {
   "cell_type": "code",
   "execution_count": null,
   "metadata": {},
   "outputs": [],
   "source": [
    "If 5==6:\n",
    "    x = 3\n",
    "else :\n",
    "    x = True\n",
    "# no static typing rules that reject programs\n",
    "# no type annotations\n",
    "def f(x):\n",
    "    return x+1"
   ]
  },
  {
   "cell_type": "markdown",
   "metadata": {},
   "source": [
    "## Question 8\n",
    "\n",
    "Describe the challenge of compiling dynamically-typed programs into x86 assembly."
   ]
  },
  {
   "cell_type": "markdown",
   "metadata": {},
   "source": [
    "In our current compiler, we rely on types in important ways:\n",
    "1. We disallow certain operations (eg: cant add bool to an int)\n",
    "2. We produce different code depending on types\n",
    "\n",
    "In a dynamically typed language:\n",
    "1. We might not know a variables type in compile time\n",
    "2. In our current compiler, no type information attached to values at runtime"
   ]
  },
  {
   "cell_type": "markdown",
   "metadata": {},
   "source": [
    "## Question 9\n",
    "\n",
    "Describe an approach for compiling a dynamically-typed language `Ldyn` to x86 assembly."
   ]
  },
  {
   "cell_type": "markdown",
   "metadata": {},
   "source": [
    "We are going to introduce a *gradually-typed* language called `Lany`. In a gradually typed language, annotations are optional and the `Any` type can represent any type in the language. Python is a gradually typed language(now).\n",
    "\n",
    "Compiler `Ldyn` to `Lany`, the compile `Lany` to x86 Assembly code. The `Lany` language has the new type `Any` which represents any type.\n",
    "\n",
    "1. The `Any` type is the type of a *tagged value* . The value itself will have a tag attached to it that says *at runtime* what the type of the value is.(eg: we can use the tag to differentiate bool and int)\n",
    "\n",
    "2. We introduce `Inject` to convert a statically typed value into a value of type `Any`. When it does the conversion, it adds the tag indicating that the tagged value has the staticaly-known type of the input.\n",
    "\n",
    "3. we introduce `project` to convert a value of type `Any` to a statically typed value with a desired type. When it does the conversion, `project` (1) checks at runtime that the tag on the input value matches the desired type and exits if not; (2) removes the tag\n",
    "\n",
    "Process :\n",
    "1. We compile `Ldyn` to `Lany` by adding inject and project operators.\n",
    "2. For each constant: use inject to convert the constant into a tagged Any value\n",
    "3. For each primitive: use project to project the inputs to the corrected expected types; use inject to convert the output to Any.\n",
    "\n",
    "After we do this we can actually run the static typechecker(after adding `Any` as a type). Every variaable will have the type any, and the program will typecheck"
   ]
  },
  {
   "cell_type": "markdown",
   "metadata": {},
   "source": [
    "## Question 10\n",
    "\n",
    "Transform the following `Ldyn` program into an `Lany` program using `inject` and `project`.\n",
    "\n",
    "```\n",
    "x = 5\n",
    "y = 6\n",
    "z = x + y\n",
    "```"
   ]
  },
  {
   "cell_type": "code",
   "execution_count": 10,
   "metadata": {},
   "outputs": [],
   "source": [
    "from typing import TypeVar\n",
    "T = TypeVar('T')\n",
    "\n",
    "from dataclasses import dataclass\n",
    "@dataclass\n",
    "class AnyVal:\n",
    "    val: any\n",
    "    tag: type\n",
    "        \n",
    "def inject(val: T) -> AnyVal: # call this on something with a known static type to get Any\n",
    "    return AnyVal(val, type(val))\n",
    "\n",
    "def project(tagged_val: AnyVal, t: T) -> T: # call this on Any to get a desired type\n",
    "    if tagged_val.tag == t:\n",
    "        return tagged_val.val\n",
    "    else:\n",
    "        raise Exception('run-time type error!')"
   ]
  },
  {
   "cell_type": "code",
   "execution_count": 13,
   "metadata": {},
   "outputs": [
    {
     "data": {
      "text/plain": [
       "AnyVal(val=11, tag=<class 'int'>)"
      ]
     },
     "execution_count": 13,
     "metadata": {},
     "output_type": "execute_result"
    }
   ],
   "source": [
    "x = inject(5)\n",
    "y = inject(6)\n",
    "tmp1 = project(x, int)\n",
    "tmp2 = project(y,int)\n",
    "tmp3 = tmp1 + tmp2\n",
    "x = inject(tmp3)\n",
    "x"
   ]
  },
  {
   "cell_type": "markdown",
   "metadata": {},
   "source": [
    "## Question 11\n",
    "\n",
    "Describe the changes to the compiler for dynamic typing."
   ]
  },
  {
   "cell_type": "markdown",
   "metadata": {},
   "source": [
    "Add the Any type to the typechecker(add as an AnyT dataclass); add typing rules for inject and project\n",
    "\n",
    "Two new passes : \n",
    "1. ` cast_insert` adds the above (inject and project). Put it before the typechecker(because you cant typecheck a program that is dynamically typed). The output of this pass is `Lany`.\n",
    "\n",
    "2. `reveal_casts` compiles the casts into lower-level primitives. Put it after RCO because it introduces new control flow.\n",
    "\n",
    "Structure of both passes is similar to RCO (follows grammar)\n",
    "\n",
    "The reveal casts pass compiles both inject and project:\n",
    "1. Project compiles into an if statement that checks if the tag is correct and returns the value if so; otherwise exits the program.\n",
    "2. inject compiles into a `make_any` primitive that attaches a tag (select instructions will compile it further)\n",
    "\n",
    "For part #1 use two primitives: `tag_of` and `value_of`\n",
    "- tag_of returns a tag of a value of type`Any`\n",
    "- `value_of ` returns the value of a value of type `Any`\n",
    "\n",
    "For `x = project(y, int)` :\n",
    "we produce :\n",
    "\n",
    "```\n",
    "if tag_of(y) ==1 :\n",
    "    x = value_of(y)\n",
    "else:\n",
    "    exit()\n",
    "```\n",
    "\n",
    "can calculate the tag value at compile time ( use the tag values from the section 10.2 in the book; convert to decimal values).\n",
    "We will deal the three remaining new primitives in select_instructions.\n"
   ]
  },
  {
   "cell_type": "markdown",
   "metadata": {},
   "source": [
    "## Question 12\n",
    "\n",
    "Write assembly language instructions for the following `Cany` statements. Reference Section 10.9 in the textbook.\n",
    "\n",
    "1. `x = make_any(5, 1)`\n",
    "2. `tmp_4 = tag_of(x)`\n",
    "3. `tmp_1 = value_of(x)`"
   ]
  },
  {
   "cell_type": "markdown",
   "metadata": {},
   "source": [
    "We'll compile these these into x86 Assembly instructions in select_instructions (one new case in si_stmnt per primitive)\n",
    "\n",
    "1. Make_any adds the tag: shifts the value 3 bits to the left, and adds the tag to the value\n",
    "\n",
    "` x = make_any(5,10)`\n",
    "=>\n",
    "```\n",
    "salq $3, #x -- shifts left by 3 bits\n",
    "orq $1, #x --- adds the tag 001\n",
    "```\n",
    "2. tag_of gets JUST the tag piece of a tagged value\n",
    "\n",
    "`tmp_4 = tag_of(x)`\n",
    "=>\n",
    "\n",
    "```\n",
    "movq #x, #tmp_4  -- copy the tagged value to the destination \n",
    "andq $7, #tmp_4  -- erase everything except the tag( 7 = 0b111)\n",
    "```\n",
    "\n",
    "3. Value_of gets JUST the value of the tagged value\n",
    "\n",
    "`tmp_1 = value_of(x)` \n",
    "=>\n",
    "movq #x, #tmp_1  -- move the tagged value to the destination \n",
    "sarq $3, #tmp_1  -- shift the tagged value 3 bits to the right, erasing the tag\n",
    "\n",
    "For the exit primitive, you can jump to `main_conclusion`(exits the project)\n"
   ]
  },
  {
   "cell_type": "markdown",
   "metadata": {},
   "source": [
    "## Question 13\n",
    "\n",
    "What impact will these changes have on the performance of our compiled code? What would happen if we skipped this new code?"
   ]
  },
  {
   "cell_type": "markdown",
   "metadata": {},
   "source": [
    "Think about a simple definition : `x= a + b`\n",
    "\n",
    "In our statically-typed language, this turns into a single addq instruction \n",
    "\n",
    "In the dynamically-typed version, it turns into : \n",
    "- Atleast two if statements\n",
    "- Atleaset three shifts\n",
    "\n",
    "Each of these extra operations adds overhead. What was 1 instruction might be more like 10-20 instructions. This has a huge impact on performance, sometimes > 10x.\n",
    "\n",
    "This is one reason dynamically-typed programming languages have a reputation for being slow(the other is that they're often implemented using interpreters)\n",
    "\n",
    "This seems super bad!!! One implication is that you can view static typing as a performance optimization.\n",
    "\n",
    "Options:\n",
    "1. Skip checks. Outcome can be : operate on the byte-level representation of a value, while considering it to represent the wrong type. ( e.g  f+5 where f is a fucntion pointer) This is basically what C does.\n",
    "\n",
    "2. Use a  Fancy compiler, like a Just-In-Time compiler (JIT). A JIT compiles code to native x86 Assembly *at runtime* . The reason is that at runtime, you know the values of all inputs to a piece of code- that means you also know the types. So you can produce code without run-time checks, even for a dynamically-typed language. "
   ]
  },
  {
   "cell_type": "code",
   "execution_count": null,
   "metadata": {},
   "outputs": [],
   "source": []
  },
  {
   "cell_type": "code",
   "execution_count": null,
   "metadata": {},
   "outputs": [],
   "source": []
  }
 ],
 "metadata": {
  "kernelspec": {
   "display_name": "Python 3 (ipykernel)",
   "language": "python",
   "name": "python3"
  },
  "language_info": {
   "codemirror_mode": {
    "name": "ipython",
    "version": 3
   },
   "file_extension": ".py",
   "mimetype": "text/x-python",
   "name": "python",
   "nbconvert_exporter": "python",
   "pygments_lexer": "ipython3",
   "version": "3.10.9"
  }
 },
 "nbformat": 4,
 "nbformat_minor": 4
}
