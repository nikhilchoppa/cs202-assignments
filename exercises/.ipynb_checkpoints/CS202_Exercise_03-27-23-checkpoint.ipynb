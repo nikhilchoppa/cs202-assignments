{
 "cells": [
  {
   "cell_type": "markdown",
   "metadata": {},
   "source": [
    "# CS202: Compiler Construction\n",
    "\n",
    "## In-class Exercises, Week of 03/27/2023\n",
    "\n",
    "----"
   ]
  },
  {
   "cell_type": "markdown",
   "metadata": {},
   "source": [
    "# Tuples and Heap-allocated Data"
   ]
  },
  {
   "cell_type": "markdown",
   "metadata": {},
   "source": [
    "## Question 1\n",
    "\n",
    "Describe the differences between heap-allocated and stack-allocated data."
   ]
  },
  {
   "cell_type": "markdown",
   "metadata": {},
   "source": [
    "- Stack allocated data has static scope, limited lifetime\n",
    "- Heap-allocated data lives (potentially) forever\n",
    "- Heap-allocated data needs to be manually deleted or garbage collected"
   ]
  },
  {
   "cell_type": "markdown",
   "metadata": {},
   "source": [
    "## Question 2\n",
    "\n",
    "Draw the heap and root stack at the end of the execution of this program:\n",
    "\n",
    "```\n",
    "x = (1, 2)\n",
    "y = (x, x)\n",
    "z = (y, x)\n",
    "```"
   ]
  },
  {
   "cell_type": "markdown",
   "metadata": {},
   "source": [
    "**Draw your solution on your own paper**"
   ]
  },
  {
   "cell_type": "markdown",
   "metadata": {},
   "source": [
    "## Question 3\n",
    "\n",
    "What is the value of `a` in this program?\n",
    "\n",
    "```\n",
    "x = (1, 2)\n",
    "y = (1, x)\n",
    "z = (y, x)\n",
    "a = (z[1], 1, z[0])\n",
    "```"
   ]
  },
  {
   "cell_type": "markdown",
   "metadata": {},
   "source": [
    "a is a length- 3 tuple with 3 elements :\n",
    "\n",
    "- 1st element is a pointer to the same tuple as x\n",
    "- 2nd element is the number 1\n",
    "- 3rd element is a pointer to the same tuple as y"
   ]
  },
  {
   "cell_type": "markdown",
   "metadata": {},
   "source": [
    "## Question 4\n",
    "\n",
    "Outline the changes to the compiler for implementing tuples."
   ]
  },
  {
   "cell_type": "markdown",
   "metadata": {},
   "source": [
    "- typechecker: typecheck tuples\n",
    "- RCO: no changes\n",
    "- typechecker2\n",
    "    - record the types of tuple-valued variables\n",
    "        - later when we assign locations to variables, we need to do something special with tuple-valued variables\n",
    "    - this happens after RCO because RCO creates lots of tmp variables\n",
    "    - we run it twice because we can catch any type errors before messing with the program\n",
    "- expose-allocation: turn tuple creation into memory allocation and a call to the garbage collector\n",
    "    - we do this before explicate control because it involves as 'if' statement\n",
    "- explicate-control: no changes\n",
    "- select instructions: nec cases for:\n",
    "    - collect\n",
    "    - allocate\n",
    "    - subscript\n",
    "    - tuple_set\n",
    "- allocate- registers:\n",
    "    - When we call the garbage collector, need to spill all tuple-valued variables to the root stack\n",
    "    - update the interference graph to have registers in it\n",
    "    - update graph coloring to directly assign locations\n",
    "- path-instructions: small changes for global values\n",
    "- prelude-amd-conclude: initialize the heap and root stack"
   ]
  },
  {
   "cell_type": "markdown",
   "metadata": {},
   "source": [
    "----"
   ]
  },
  {
   "cell_type": "markdown",
   "metadata": {},
   "source": [
    "# Typechecker"
   ]
  },
  {
   "cell_type": "markdown",
   "metadata": {},
   "source": [
    "## Question 5\n",
    "\n",
    "What are the types of the following expressions?\n",
    "\n",
    "- `(1, 2, 3)`\n",
    "- `(1, 2)[1]`\n",
    "- `(1, (2, 3))`\n",
    "- `(1, (2, 3))[1]`\n",
    "- `(1, 2)[1 + 2]`"
   ]
  },
  {
   "cell_type": "markdown",
   "metadata": {},
   "source": [
    "- Type of a tuple s a tuple of types\n",
    "- To find the type of a subscript expression, find the type in the subscripted at the correct index\n",
    "- Subscript index must be a constant expression\n",
    "\n",
    "1. (int, int, int)\n",
    "2. int\n",
    "3. (int,(int, int))\n",
    "4. (int, int)\n",
    "5. type error"
   ]
  },
  {
   "cell_type": "markdown",
   "metadata": {},
   "source": [
    "## Question 6\n",
    "\n",
    "Describe the typing rules for tuple creation and tuple subscript."
   ]
  },
  {
   "cell_type": "markdown",
   "metadata": {},
   "source": [
    "- Type of a tuple s a tuple of types\n",
    "- To find the type of a subscript expression, find the type in the subscripted at the correct index\n",
    "- Subscript index must be a constant expression"
   ]
  },
  {
   "cell_type": "markdown",
   "metadata": {},
   "source": [
    "## Question 7\n",
    "\n",
    "Describe the changes to the typechecker. Why do we need to run the typechecker again after RCO?"
   ]
  },
  {
   "cell_type": "markdown",
   "metadata": {},
   "source": [
    "- Add the new typing rules\n",
    "- Record the types of tuple-valued variables\n",
    "- We run the typechecker again after RCO because RCO creates a lot of tmp variables"
   ]
  },
  {
   "cell_type": "markdown",
   "metadata": {},
   "source": [
    "----\n",
    "# RCO"
   ]
  },
  {
   "cell_type": "markdown",
   "metadata": {},
   "source": [
    "## Question 8\n",
    "\n",
    "Describe the changes to RCO."
   ]
  },
  {
   "cell_type": "markdown",
   "metadata": {},
   "source": [
    "No changes required"
   ]
  },
  {
   "cell_type": "markdown",
   "metadata": {},
   "source": [
    "## Question 9\n",
    "\n",
    "Write the output of RCO for the following program:\n",
    "\n",
    "```\n",
    "x = (1 + 2, 3, (4, 5))\n",
    "y = (x, 1)[1]\n",
    "```"
   ]
  },
  {
   "cell_type": "code",
   "execution_count": 2,
   "metadata": {},
   "outputs": [],
   "source": [
    "tmp_1 = 1 + 2\n",
    "tmp_2 = (4, 5)\n",
    "x = (tmp_1, 3, tmp_2)\n",
    "tmp_3 = (x, 1)\n",
    "y = tmp_3[1]\n",
    "\n",
    "#- every tuple constuction is of the form:\n",
    "#    Assign(x, Prim('tuple', atomic_args))"
   ]
  },
  {
   "cell_type": "markdown",
   "metadata": {},
   "source": [
    "----"
   ]
  },
  {
   "cell_type": "markdown",
   "metadata": {},
   "source": [
    "# Expose Allocation"
   ]
  },
  {
   "cell_type": "markdown",
   "metadata": {},
   "source": [
    "## Question 10\n",
    "\n",
    "Describe the approach in the expose-allocation pass for a statement:\n",
    "\n",
    "```\n",
    "x = (1, 2, 3)\n",
    "```"
   ]
  },
  {
   "cell_type": "markdown",
   "metadata": {},
   "source": [
    "- Turn tuple construction into uses of \"allocation\", \"collect\", \"tuple_set\"\n",
    "    - If the free pointer + amount of space needed for the new tuple is greater than the from space_end, run the garbage collector (use \"collect\")\n",
    "    - Allocate enough space for the tuple and assign x to point to the new space (use \"allocate\")\n",
    "    - Set each index of the tuple to the correct value (use \"tuple_set\")\n",
    "    \n",
    "    \n",
    "free pointer points to the free space at the end of heap\n",
    "from space_end pointer defines the end of useable heap memory"
   ]
  },
  {
   "cell_type": "markdown",
   "metadata": {},
   "source": [
    "## Question 11\n",
    "\n",
    "Write the output of expose-allocation for the statement:\n",
    "\n",
    "```\n",
    "x = (1, 2, 3)\n",
    "```"
   ]
  },
  {
   "cell_type": "markdown",
   "metadata": {},
   "source": [
    "```\n",
    "# 1. call collect if needed\n",
    "if free_ptr + 32 < fromspace_end:\n",
    "  pass # Dont need to call the collector, there is enough space\n",
    "else\n",
    "  _ = collect(32)\n",
    "\n",
    "# 2. allocate\n",
    "x = allocate(32, tag)\n",
    "\n",
    "\n",
    "# 3. Set contents\n",
    "_ = tuple_set(x, 0, 1)\n",
    "_ = tuple_set(x, 1, 2)\n",
    "_ = tuple_set(x, 2, 3)\n",
    "\n",
    "\n",
    "def expose_alloc(prog: Program) -> Program:\n",
    "    def ea_expr(args):\n",
    "        pass\n",
    "    def ea_stmt(s: Stmt) -> List[Stmt]:\n",
    "        match s:\n",
    "            case Assign(x, Prim('tuple', args)):\n",
    "                all_stmts = []\n",
    "                bytes_needed = len(args) * 8 + 8\n",
    "                tmp1_var = gensym('tmp')\n",
    "                \n",
    "                # TODO: Replace var names with gensym calls\n",
    "                tmp1 = Assign(\"tmp_2\", Prim(\"add\", [Var(\"free_ptr\"), Constant(bytes_needed)]))\n",
    "                tmp2 = Assign(\"tmp_3\", Prim(\"lt\", [Var(\"tmp_2\"), Var(\"freespace_end\")]))\n",
    "                collect_if = If(Var(\"tmp_3\"), [], [Assign(\"_\", Prim(\"collect\", [Constant(bytes_needed)]))])\n",
    "                all_stmts += [tmp1, tmp2, collect_if]\n",
    "                \n",
    "                # Step 3\n",
    "                for i, a in enumerate(args):\n",
    "                    all_stmts.append(Assign(\"_\", Prim('tuple_set', [Var(x), Constant(i), a])))\n",
    "                return all_stmts\n",
    "            case While(Begin(c_stmts, c_expr), body_stmts): # While loops have sub statements!\n",
    "                return [While(Begin(ea_stmts(c_stmts), c_expr), ea_stmts(body_stmts))]\n",
    "            case If(e, s1, s2):\n",
    "                return [If(e, ea_stmts(s1), ea_stmts(s2))]\n",
    "            case _:\n",
    "                return [s]\n",
    "    def ea_stmts(stmts):\n",
    "        pass\n",
    "        \n",
    "    return Program(ea_stmts(prog.stmts))\n",
    "```"
   ]
  },
  {
   "cell_type": "markdown",
   "metadata": {},
   "source": [
    "----\n",
    "# Select Instructions"
   ]
  },
  {
   "cell_type": "markdown",
   "metadata": {},
   "source": [
    "## Question 12\n",
    "\n",
    "Write x86 instructions corresponding to the output of `select-instructions` on the following `assign` statement:\n",
    "\n",
    "```\n",
    "Assign(\"x\", Prim('allocate', [Constant(24)]))\n",
    "```"
   ]
  },
  {
   "cell_type": "markdown",
   "metadata": {},
   "source": [
    "YOUR ANSWER HERE"
   ]
  },
  {
   "cell_type": "markdown",
   "metadata": {},
   "source": [
    "## Question 13\n",
    "\n",
    "Write x86 instructions corresponding to the output of `select-instructions` on the following statement:\n",
    "\n",
    "```\n",
    "Assign('_', Prim('collect', [Constant(16)]))\n",
    "```"
   ]
  },
  {
   "cell_type": "markdown",
   "metadata": {},
   "source": [
    "YOUR ANSWER HERE"
   ]
  },
  {
   "cell_type": "markdown",
   "metadata": {},
   "source": [
    "## Question 14\n",
    "\n",
    "Write x86 instructions corresponding to the output of `select-instructions` on the following statements:\n",
    "\n",
    "a. `Assign('y', Prim('subscript', [Var('x'), Constant(0)]))`\n",
    "\n",
    "b. `Assign('_', Prim('tuple_set', [Var('x'), Constant(0), Constant(1)]))`"
   ]
  },
  {
   "cell_type": "markdown",
   "metadata": {},
   "source": [
    "YOUR ANSWER HERE"
   ]
  }
 ],
 "metadata": {
  "kernelspec": {
   "display_name": "Python 3 (ipykernel)",
   "language": "python",
   "name": "python3"
  },
  "language_info": {
   "codemirror_mode": {
    "name": "ipython",
    "version": 3
   },
   "file_extension": ".py",
   "mimetype": "text/x-python",
   "name": "python",
   "nbconvert_exporter": "python",
   "pygments_lexer": "ipython3",
   "version": "3.10.4"
  }
 },
 "nbformat": 4,
 "nbformat_minor": 4
}
