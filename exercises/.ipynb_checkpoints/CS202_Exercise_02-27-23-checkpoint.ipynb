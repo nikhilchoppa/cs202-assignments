{
 "cells": [
  {
   "cell_type": "markdown",
   "metadata": {},
   "source": [
    "# CS202: Compiler Construction\n",
    "\n",
    "## In-class Exercises, Week of 02/27/2023\n",
    "\n",
    "----"
   ]
  },
  {
   "cell_type": "markdown",
   "metadata": {},
   "source": [
    "# RCO"
   ]
  },
  {
   "cell_type": "markdown",
   "metadata": {},
   "source": [
    "## Question 1\n",
    "\n",
    "How do we handle `if` statements in rco?"
   ]
  },
  {
   "cell_type": "markdown",
   "metadata": {},
   "source": [
    "We dont have to do much at all.\n",
    "\n",
    "- If is not an operator; its arguments dont need to be atomic.\n",
    "    - call rco_exp on the condition\n",
    "    - call rco_stmts on the then and else statements"
   ]
  },
  {
   "cell_type": "markdown",
   "metadata": {},
   "source": [
    "----"
   ]
  },
  {
   "cell_type": "markdown",
   "metadata": {},
   "source": [
    "# Explicate-Control"
   ]
  },
  {
   "cell_type": "markdown",
   "metadata": {},
   "source": [
    "## Question 2\n",
    "\n",
    "Describe the idea behind the explicate-control pass."
   ]
  },
  {
   "cell_type": "markdown",
   "metadata": {},
   "source": [
    "The pass is designed to compile if statements into a control flow graph(gotos/jumps; no structural if statements)\n",
    "\n",
    "The output is in an intermediate language called Cif.\n",
    "- Similar to python in most respects (expressions and statements)\n",
    "- Different.\n",
    "    - if statements must have gotos in then and else.\n",
    "    - Program is represented by a dict mapping labels to lists of statements (a control flow graph).\n",
    "\n",
    "Four pieces to consider when compiling an if statement:\n",
    "- the condition\n",
    "- the then branch (statements)\n",
    "- the else branch (statements)\n",
    "- the \"rest of the stuff to do \" after the if statement is done.\n",
    "    - this is called the *continuation*\n",
    "\n",
    "\n",
    "We will process statements backwards, so we will alwyas have a compiled version of the continuation.\n",
    "   "
   ]
  },
  {
   "cell_type": "markdown",
   "metadata": {},
   "source": [
    "## Question 3\n",
    "\n",
    "Compile this program into a $C_{if}$ program, describing the input and output of explicate-control.\n",
    "\n",
    "```\n",
    "if 5 == 6:\n",
    "    print(1)\n",
    "else:\n",
    "    print(0)\n",
    "```"
   ]
  },
  {
   "cell_type": "raw",
   "metadata": {},
   "source": [
    "\n",
    "label_2:\n",
    "  return 0\n",
    "label_3:\n",
    "  print(1)\n",
    "  goto label_2\n",
    "label_4:\n",
    "  print(0)\n",
    "  goto label_2\n",
    "start:\n",
    "  tmp_1 = eq(5, 6)\n",
    "  if tmp_1: goto label_3 else: goto label_4"
   ]
  },
  {
   "cell_type": "markdown",
   "metadata": {},
   "source": [
    "## Question 4\n",
    "\n",
    "Describe the structure of `explicate_control`."
   ]
  },
  {
   "cell_type": "markdown",
   "metadata": {},
   "source": [
    "Start by following the grammar.\n",
    "\n",
    "- `ec_atm` compiles an atomic expression into a Cif atom\n",
    "    - Constants => cif.Constant\n",
    "    - Var => cif.Var\n",
    "- `ec_expr` compiles an expression into a Cif expression\n",
    "    - Prim(op, args) => cif.Prim(op, new_args)\n",
    "    - else call ec_atm\n",
    "- `ec_stmt` takes a statement and a continuation, returns a list of Cif statements.\n",
    "    - Assign(x, e) => [cif.Assign(x, ec_expr(e))] + cont\n",
    "    - Print(e) => [cif.print(ec_expr(e))] + cont\n",
    "    - If(condition, then_stmts, else_stmts) =>\n",
    "        - cond_label = create block for cont\n",
    "        - then_label = create block for ec_stmts(then_stmts, [cif.Goto(cond_label])\n",
    "        - else_label = create block for ec_stmts(else_stmts, [cif.Goto(cond_label])\n",
    "        - return [cif.IF(ec_expr(condition), cif.Goto(then_label), cif.Goto(else_label)]\n",
    "- `ec_stmts` takes a list of stmts and a continuation, returns a list of Cif statements\n",
    "    - process the list of statements in reverse\n",
    "    - update \"current continuation\" by calling ec_stmt on each stmt and setting the continuation to whatever comes back.\n",
    "- the main body of the pass \n",
    "    - start with continuation : [cif.Return(0)]\n",
    "    - call ec_stmts on the statements of the program \n",
    "    - set basic_blocks['start'] to the result\n",
    "    - set basic_blocks['start'] to the result \n",
    "- pass should have a 'global' basic_blocks: Dict[str, List[cif.Stmt]]\n",
    "- pass should have a 'create_block' function that adds a new block to basic_blocks with a unique name (using gensym)"
   ]
  },
  {
   "cell_type": "markdown",
   "metadata": {},
   "source": [
    "----"
   ]
  },
  {
   "cell_type": "markdown",
   "metadata": {},
   "source": [
    "# Select Instructions"
   ]
  },
  {
   "cell_type": "markdown",
   "metadata": {},
   "source": [
    "## Question 5\n",
    "\n",
    "Describe the new cases in `select_instructions`."
   ]
  },
  {
   "cell_type": "markdown",
   "metadata": {},
   "source": [
    "- It's mostly copy and paste\n",
    "- But comparison case is really interesting \n",
    "\n",
    "New Cases:\n",
    "- `Assign(x, Pri(op, [a1,a2]))` and `op` is a comparison primitive:\n",
    "  - compile to three instructions\n",
    "      - cmpq a2, a1 (comparison a1 to a2, sets EFLAGS registers)\n",
    "      - set[cc] %al (sets byte register %al to the value of EFLAGS)\n",
    "          - cci sthe condition code for the desites comparison op\n",
    "          - eq(==): e, gt(>): g, gte(>=): ge, lt(<):l, lte(<=):le\n",
    "      - movzbq %al, #x (moves byte reg into a 64-bit location (in movzbq, b = byte, q= quadword)\n",
    "- `if(condition, Goto(label1), Goto(label2))`\n",
    "    - `cmpq condition, $1`\n",
    "    - je label1\n",
    "    - jmp label2\n",
    "- `Assign(x, Prim('not', [al]))`\n",
    "    - movq a1, #x\n",
    "    - xorq $1, #x\n",
    "- `Return (al)`\n",
    "    - movq a1, %rax\n",
    "    - jmp conclusion\n",
    "- `Goto(label)` => jmp label"
   ]
  },
  {
   "cell_type": "markdown",
   "metadata": {},
   "source": [
    "----"
   ]
  },
  {
   "cell_type": "markdown",
   "metadata": {},
   "source": [
    "# Register Allocation"
   ]
  },
  {
   "cell_type": "markdown",
   "metadata": {},
   "source": [
    "## Question 6\n",
    "\n",
    "Describe the liveness analysis for a control-flow graph."
   ]
  },
  {
   "cell_type": "markdown",
   "metadata": {},
   "source": [
    "- challenge : now i have many blocks, and jumps between them; a variable might be read in a block i'm jumping to, and so it better remain live \"across\" the jump.\n",
    "- Means i can't consider each block in isolation, i need to look at all blocks at once\n",
    "- Treat things that might ger read by the block I'am jumping to as things that are read by the jump instruction itself."
   ]
  },
  {
   "cell_type": "markdown",
   "metadata": {},
   "source": [
    "## Question 7\n",
    "\n",
    "Here is an x86 assembly program. Compute its live-after sets.\n",
    "\n",
    "```\n",
    "start:\n",
    "  movq $42, #x\n",
    "  cmpq $6, $5\n",
    "  je label_2\n",
    "  jmp label_3\n",
    "label_2:\n",
    "  addq $3, #x\n",
    "  jmp conclusion\n",
    "label_3:\n",
    "  addq $4, #x\n",
    "  jmp conclusion\n",
    "```"
   ]
  },
  {
   "cell_type": "markdown",
   "metadata": {},
   "source": [
    "when  i find a jump instruction, compute the live-after sets for the target, and the live-before set for the trget, and treat the live-before set as the variables by the jump.\n",
    "\n",
    "The `conclusion` block always has the empty lie-before set.\n",
    "\n",
    "```\n",
    "start:            {}\n",
    "  movq $42, #x    {x}\n",
    "  cmpq $6, $5     {x}\n",
    "  je label_2      {x}\n",
    "  jmp label_3     {}\n",
    "label_2:          {x}\n",
    "  addq $3, #x     {}\n",
    "  jmp conclusion  {}\n",
    "label_3:          {x}\n",
    "  addq $4, #x     {}\n",
    "  jmp conclusion  {}\n",
    " \n",
    "```\n",
    "\n",
    "- Global dict that remembers live-before sets for each block\n",
    "- Global dict that rememebers list of live-after sets of each block."
   ]
  },
  {
   "cell_type": "markdown",
   "metadata": {},
   "source": [
    "## Question 8\n",
    "\n",
    "Describe the change to building the interference graph."
   ]
  },
  {
   "cell_type": "markdown",
   "metadata": {},
   "source": [
    "No change"
   ]
  },
  {
   "cell_type": "markdown",
   "metadata": {},
   "source": [
    "## Question 9\n",
    "\n",
    "Describe the change to graph coloring and assigning homes."
   ]
  },
  {
   "cell_type": "markdown",
   "metadata": {},
   "source": [
    "no change"
   ]
  },
  {
   "cell_type": "markdown",
   "metadata": {},
   "source": [
    "----"
   ]
  },
  {
   "cell_type": "markdown",
   "metadata": {},
   "source": [
    "# Patch Instructions"
   ]
  },
  {
   "cell_type": "markdown",
   "metadata": {},
   "source": [
    "## Question 10\n",
    "\n",
    "Describe the changes to patch_instructions."
   ]
  },
  {
   "cell_type": "markdown",
   "metadata": {},
   "source": [
    "YOUR ANSWER HERE"
   ]
  },
  {
   "cell_type": "markdown",
   "metadata": {},
   "source": [
    "----"
   ]
  },
  {
   "cell_type": "markdown",
   "metadata": {},
   "source": [
    "# Prelude & Conclusion\n"
   ]
  },
  {
   "cell_type": "markdown",
   "metadata": {},
   "source": [
    "## Question 11\n",
    "\n",
    "Describe the changes to prelude_and_conclusion."
   ]
  },
  {
   "cell_type": "markdown",
   "metadata": {},
   "source": [
    "YOUR ANSWER HERE"
   ]
  }
 ],
 "metadata": {
  "kernelspec": {
   "display_name": "Python 3 (ipykernel)",
   "language": "python",
   "name": "python3"
  },
  "language_info": {
   "codemirror_mode": {
    "name": "ipython",
    "version": 3
   },
   "file_extension": ".py",
   "mimetype": "text/x-python",
   "name": "python",
   "nbconvert_exporter": "python",
   "pygments_lexer": "ipython3",
   "version": "3.10.8"
  }
 },
 "nbformat": 4,
 "nbformat_minor": 4
}
