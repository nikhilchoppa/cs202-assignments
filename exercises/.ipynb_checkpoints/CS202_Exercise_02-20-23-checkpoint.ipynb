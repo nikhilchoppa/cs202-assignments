{
 "cells": [
  {
   "cell_type": "markdown",
   "metadata": {},
   "source": [
    "# CS202: Compiler Construction\n",
    "\n",
    "## In-class Exercises, Week of 02/20/2023\n",
    "\n",
    "----"
   ]
  },
  {
   "cell_type": "markdown",
   "metadata": {},
   "source": [
    "# Conditionals"
   ]
  },
  {
   "cell_type": "markdown",
   "metadata": {},
   "source": [
    "## Question 1\n",
    "\n",
    "The following grammar defines the *concrete syntax* for a subset of $L_{if}$.\n",
    "\n",
    "\\begin{align*}\n",
    "b &::= \\texttt{True} \\mid \\texttt{False}\\\\\n",
    "cmp &::= \\texttt{==} \\mid \\texttt{!=} \\mid \\texttt{<} \\mid \\texttt{<=} \\mid \\texttt{>} \\mid \\texttt{>=} \\\\\n",
    "exp &::= n \\mid b \\mid exp + exp \\mid exp\\; cmp\\; exp \\mid exp\\; \\texttt{and}\\; exp \\mid exp\\; \\texttt{or}\\; exp \\\\\n",
    "stmt &::= var = exp \\mid \\texttt{print}(exp) \\mid \\texttt{if}\\; exp: stmt^+\\; \\texttt{else}: stmt^+ \\\\\n",
    "\\end{align*}\n",
    "\n",
    "Write a program that prints 42 if 5 equals 6, and 0 otherwise."
   ]
  },
  {
   "cell_type": "raw",
   "metadata": {},
   "source": [
    "if 5 == 6:\n",
    "    print(42)\n",
    "else:\n",
    "    print(0)"
   ]
  },
  {
   "cell_type": "markdown",
   "metadata": {},
   "source": [
    "## Question 2\n",
    "\n",
    "Write the same program in x86 assembly language."
   ]
  },
  {
   "cell_type": "raw",
   "metadata": {},
   "source": [
    "x86 does no have if statement; only jumps\n",
    "\n",
    "main:\n",
    "    -- this has the condition in it\n",
    "    movq $6, %r8\n",
    "    cmpq $5, %r8\n",
    "    je label1 <- If the comp register(special register) has (=), jump to label1\n",
    "    jmp label2 <- unconditional jump (will happen no matter what; used for if je is false)\n",
    "label1:\n",
    "    -- this has the 'then' branch\n",
    "    movq $42, %rdi\n",
    "    callq print_int\n",
    "    jmp conclusion\n",
    "label2:\n",
    "    -- this has the 'else' branch\n",
    "    movq $0, %rdi\n",
    "    callq print_int\n",
    "    jmp conclusion\n",
    "conclusion:\n",
    "    retq"
   ]
  },
  {
   "cell_type": "markdown",
   "metadata": {},
   "source": [
    "## Question 3\n",
    "\n",
    "Convert the following program to pseudo-x86 assembly:\n",
    "\n",
    "```\n",
    "if 5 == 6:\n",
    "  x = 0\n",
    "else:\n",
    "  x = 40\n",
    "print(x+2)\n",
    "```"
   ]
  },
  {
   "cell_type": "raw",
   "metadata": {},
   "source": [
    "'''\n",
    "main:\n",
    "    movq $5, %r8\n",
    "    cmpq $6, %r8\n",
    "    je label1\n",
    "    jmp label2\n",
    "label1:\n",
    "    movq $0, #x\n",
    "    jmp lable3\n",
    "label2:\n",
    "    movq $40, #x\n",
    "    jmp label3\n",
    "label3:\n",
    "    addq $2, #x\n",
    "    movq #x, %rdi\n",
    "    callq print_int\n",
    "'''"
   ]
  },
  {
   "cell_type": "markdown",
   "metadata": {},
   "source": [
    "## Question 4\n",
    "\n",
    "Describe a strategy for converting `if` expressions into x86 assembly."
   ]
  },
  {
   "cell_type": "markdown",
   "metadata": {},
   "source": [
    "- create new labels in  the program fro then and else branches, and compile the statements of those branches into the corresponding labels.\n",
    "- use cmpq instructionsto do comparisons\n",
    "- use jmp and conditional jumps (je, jne, etc..) to 'consume' the result of cmpq and jump to the right place\n",
    "- create one more new label for the 'right stuff to do' after the if statement is over\n",
    "    - dont copy 'the rest of the stuff' because the size of the output program may blow up"
   ]
  },
  {
   "cell_type": "markdown",
   "metadata": {},
   "source": [
    "**Notes:**\n",
    "- `if` is a structure for *control flow*\n",
    "- A [control flow graph](https://en.wikipedia.org/wiki/Control-flow_graph) can express x86 programs with control flow"
   ]
  },
  {
   "cell_type": "markdown",
   "metadata": {},
   "source": [
    "----\n",
    "# Strategy"
   ]
  },
  {
   "cell_type": "markdown",
   "metadata": {},
   "source": [
    "## Question 5\n",
    "\n",
    "List the major differences between $\\mathcal{L}_{var}$ and $\\mathcal{L}_{if}$, and the required corresponding changes to the compiler."
   ]
  },
  {
   "cell_type": "markdown",
   "metadata": {},
   "source": [
    "Language differences:\n",
    "- we jave if statement\n",
    "- we now have both int and bool values\n",
    "\n",
    "Require changes:\n",
    "- add a pass(explicate-control) to convert if statements into blocks in a control-flow graph\n",
    "- add a pass (typecheck) that typechecks the program"
   ]
  },
  {
   "cell_type": "markdown",
   "metadata": {},
   "source": [
    "## Question 6\n",
    "\n",
    "For each pass of the compiler, list major changes. Include new passes."
   ]
  },
  {
   "cell_type": "markdown",
   "metadata": {},
   "source": [
    "- typecheck : new\n",
    "- rco : no major changes\n",
    "- explicate-control : new\n",
    "- select instructions : now compile Cif to x86\n",
    "- allocate registers: : now need to handle multiple blocks\n",
    "- patch instructions : no major changes\n",
    "- prelude and conclusion : no major changes"
   ]
  },
  {
   "cell_type": "markdown",
   "metadata": {},
   "source": [
    "## Question 7\n",
    "\n",
    "List the major differences between our source language and that of the textbook."
   ]
  },
  {
   "cell_type": "markdown",
   "metadata": {},
   "source": [
    "- we won't handle if *expressions*\n",
    "- we won't implement the *shrink* pass\n",
    "- we will make a few slight simplifications in passes"
   ]
  },
  {
   "cell_type": "markdown",
   "metadata": {},
   "source": [
    "----"
   ]
  },
  {
   "cell_type": "markdown",
   "metadata": {},
   "source": [
    "# Typechecking"
   ]
  },
  {
   "cell_type": "markdown",
   "metadata": {},
   "source": [
    "## Question 8\n",
    "\n",
    "What does this program do? What is the type of `x`?\n",
    "\n",
    "```\n",
    "if 1:\n",
    "  x = 2\n",
    "else:\n",
    "  x = 3\n",
    "```"
   ]
  },
  {
   "cell_type": "markdown",
   "metadata": {},
   "source": [
    "- x is an int\n",
    "- But is it well typed program?\n",
    "- python says yes, but we could debate this!"
   ]
  },
  {
   "cell_type": "markdown",
   "metadata": {},
   "source": [
    "## Question 9\n",
    "\n",
    "What is the type of `x`?\n",
    "\n",
    "```\n",
    "if 5 == 6:\n",
    "  x = 7\n",
    "else:\n",
    "  x = True\n",
    "```"
   ]
  },
  {
   "cell_type": "markdown",
   "metadata": {},
   "source": [
    "- It could be an int or a bool, depending on which brach is taken argubally this program is not well typed."
   ]
  },
  {
   "cell_type": "markdown",
   "metadata": {},
   "source": [
    "## Question 10\n",
    "\n",
    "Fill in the following definition of a typechecker for $L_{if}$ expressions."
   ]
  },
  {
   "cell_type": "code",
   "execution_count": 9,
   "metadata": {},
   "outputs": [],
   "source": [
    "from typing import Dict, List\n",
    "from cs202_support.python import *\n",
    "TEnv = Dict[str, type]\n",
    "# prim_input_types = {\n",
    "#     '+': [int, int]\n",
    "#     ....\n",
    "# }\n",
    "# prim_output_types= {\n",
    "#     '+': int\n",
    "# }\n",
    "\n",
    "def tc_exp(e: Expr, env: TEnv) -> type:\n",
    "    match e:\n",
    "        case Var(x):\n",
    "            return env[x]\n",
    "        case Constant(n):\n",
    "            return type(n)\n",
    "                # if isinstance(n, bool):\n",
    "                #     return bool\n",
    "                # elif isinstance(n, int):\n",
    "                #     return int\n",
    "        case Prim('+', [e], e2): # Primitive case\n",
    "            assert tc_exp(e1, env) == int\n",
    "            assert tc_exp(e2, env) == int\n",
    "            return int\n",
    "        case Prim('==', [e], e2): # Primitive case\n",
    "            assert tc_exp(e1, env) == tc_exp(e2, env)\n",
    "            return bool\n",
    "        case Prim('op', args): # Primitive case\n",
    "            pass"
   ]
  },
  {
   "cell_type": "markdown",
   "metadata": {},
   "source": [
    "## Question 11\n",
    "\n",
    "Fill in the following definition of a typechecker for $L_{if}$ statements."
   ]
  },
  {
   "cell_type": "code",
   "execution_count": 10,
   "metadata": {},
   "outputs": [
    {
     "name": "stdout",
     "output_type": "stream",
     "text": [
      "Test 1 result: None\n",
      "None\n"
     ]
    },
    {
     "ename": "TypeError",
     "evalue": "Prim() accepts 2 positional sub-patterns (3 given)",
     "output_type": "error",
     "traceback": [
      "\u001b[0;31m---------------------------------------------------------------------------\u001b[0m",
      "\u001b[0;31mTypeError\u001b[0m                                 Traceback (most recent call last)",
      "Cell \u001b[0;32mIn[10], line 44\u001b[0m\n\u001b[1;32m     34\u001b[0m     \u001b[38;5;28mprint\u001b[39m(\u001b[38;5;124m'\u001b[39m\u001b[38;5;124mTest 2 result: Succesfully caught error\u001b[39m\u001b[38;5;124m'\u001b[39m)\n\u001b[1;32m     36\u001b[0m good_if_prog \u001b[38;5;241m=\u001b[39m \u001b[38;5;124m\"\"\"\u001b[39m\n\u001b[1;32m     37\u001b[0m \u001b[38;5;124mif 5 == 6:\u001b[39m\n\u001b[1;32m     38\u001b[0m \u001b[38;5;124m    x = 0\u001b[39m\n\u001b[0;32m   (...)\u001b[0m\n\u001b[1;32m     41\u001b[0m \u001b[38;5;124mx = 2\u001b[39m\n\u001b[1;32m     42\u001b[0m \u001b[38;5;124m\"\"\"\u001b[39m\n\u001b[0;32m---> 44\u001b[0m \u001b[38;5;28mprint\u001b[39m(\u001b[38;5;124m'\u001b[39m\u001b[38;5;124mTest 3 result:\u001b[39m\u001b[38;5;124m'\u001b[39m, \u001b[43mtc_stmts\u001b[49m\u001b[43m(\u001b[49m\u001b[43mparse\u001b[49m\u001b[43m(\u001b[49m\u001b[43mgood_if_prog\u001b[49m\u001b[43m)\u001b[49m\u001b[38;5;241;43m.\u001b[39;49m\u001b[43mstmts\u001b[49m\u001b[43m)\u001b[49m)\n\u001b[1;32m     46\u001b[0m error_if_prog \u001b[38;5;241m=\u001b[39m \u001b[38;5;124m\"\"\"\u001b[39m\n\u001b[1;32m     47\u001b[0m \u001b[38;5;124mif 5 == 6:\u001b[39m\n\u001b[1;32m     48\u001b[0m \u001b[38;5;124m    y = 5\u001b[39m\n\u001b[1;32m     49\u001b[0m \u001b[38;5;124melse:\u001b[39m\n\u001b[1;32m     50\u001b[0m \u001b[38;5;124m    y = True\u001b[39m\n\u001b[1;32m     51\u001b[0m \u001b[38;5;124m\"\"\"\u001b[39m\n\u001b[1;32m     53\u001b[0m \u001b[38;5;28;01mtry\u001b[39;00m:\n",
      "Cell \u001b[0;32mIn[10], line 20\u001b[0m, in \u001b[0;36mtc_stmts\u001b[0;34m(ss)\u001b[0m\n\u001b[1;32m     18\u001b[0m env \u001b[38;5;241m=\u001b[39m {}\n\u001b[1;32m     19\u001b[0m \u001b[38;5;28;01mfor\u001b[39;00m s \u001b[38;5;129;01min\u001b[39;00m ss:\n\u001b[0;32m---> 20\u001b[0m     \u001b[43mtc_stmt\u001b[49m\u001b[43m(\u001b[49m\u001b[43ms\u001b[49m\u001b[43m,\u001b[49m\u001b[43m \u001b[49m\u001b[43menv\u001b[49m\u001b[43m)\u001b[49m\n",
      "Cell \u001b[0;32mIn[10], line 12\u001b[0m, in \u001b[0;36mtc_stmt\u001b[0;34m(s, env)\u001b[0m\n\u001b[1;32m     10\u001b[0m     to_exp(w, env)\n\u001b[1;32m     11\u001b[0m \u001b[38;5;28;01mcase\u001b[39;00m If(e1, s1, s2):\n\u001b[0;32m---> 12\u001b[0m     \u001b[38;5;28;01massert\u001b[39;00m \u001b[43mtc_exp\u001b[49m\u001b[43m(\u001b[49m\u001b[43me1\u001b[49m\u001b[43m,\u001b[49m\u001b[43m \u001b[49m\u001b[43menv\u001b[49m\u001b[43m)\u001b[49m \u001b[38;5;241m==\u001b[39m \u001b[38;5;28mbool\u001b[39m\n\u001b[1;32m     13\u001b[0m     \u001b[38;5;28;01mfor\u001b[39;00m s \u001b[38;5;129;01min\u001b[39;00m s1:\n\u001b[1;32m     14\u001b[0m         tc_stmts(s1, env)\n",
      "Cell \u001b[0;32mIn[9], line 22\u001b[0m, in \u001b[0;36mtc_exp\u001b[0;34m(e, env)\u001b[0m\n\u001b[1;32m     17\u001b[0m     \u001b[38;5;28;01mreturn\u001b[39;00m \u001b[38;5;28mtype\u001b[39m(n)\n\u001b[1;32m     18\u001b[0m         \u001b[38;5;66;03m# if isinstance(n, bool):\u001b[39;00m\n\u001b[1;32m     19\u001b[0m         \u001b[38;5;66;03m#     return bool\u001b[39;00m\n\u001b[1;32m     20\u001b[0m         \u001b[38;5;66;03m# elif isinstance(n, int):\u001b[39;00m\n\u001b[1;32m     21\u001b[0m         \u001b[38;5;66;03m#     return int\u001b[39;00m\n\u001b[0;32m---> 22\u001b[0m \u001b[38;5;28;01mcase\u001b[39;00m Prim(\u001b[38;5;124m'\u001b[39m\u001b[38;5;124m+\u001b[39m\u001b[38;5;124m'\u001b[39m, [e], e2): \u001b[38;5;66;03m# Primitive case\u001b[39;00m\n\u001b[1;32m     23\u001b[0m     \u001b[38;5;28;01massert\u001b[39;00m tc_exp(e1, env) \u001b[38;5;241m==\u001b[39m \u001b[38;5;28mint\u001b[39m\n\u001b[1;32m     24\u001b[0m     \u001b[38;5;28;01massert\u001b[39;00m tc_exp(e2, env) \u001b[38;5;241m==\u001b[39m \u001b[38;5;28mint\u001b[39m\n",
      "\u001b[0;31mTypeError\u001b[0m: Prim() accepts 2 positional sub-patterns (3 given)"
     ]
    }
   ],
   "source": [
    "def tc_stmt(s: Stmt, env: TEnv):\n",
    "    # assign (x, Expr) | Print(Expr)| If (Expr, Stmts, Stmts)\n",
    "    match s:\n",
    "        case Assign(x, e):\n",
    "            if x is env:\n",
    "                assert env[x] == tc_exp(e, env)\n",
    "            else:\n",
    "                env[x] = tc_exp(e,env)\n",
    "        case Prim(e):\n",
    "            to_exp(w, env)\n",
    "        case If(e1, s1, s2):\n",
    "            assert tc_exp(e1, env) == bool\n",
    "            for s in s1:\n",
    "                tc_stmts(s1, env)\n",
    "            for s in s2:\n",
    "                tc_stmts(s1, env)\n",
    "def tc_stmts(ss: List[Stmt]):\n",
    "    env = {}\n",
    "    for s in ss:\n",
    "        tc_stmt(s, env)\n",
    "\n",
    "\n",
    "# TEST CASES\n",
    "print('Test 1 result:', tc_stmts(parse('x=5').stmts))\n",
    "\n",
    "error_prog = \"\"\"\n",
    "y = 5\n",
    "y = True\n",
    "\"\"\"\n",
    "\n",
    "try:\n",
    "    print(tc_stmts(parse(error_prog).stmts))\n",
    "except:\n",
    "    print('Test 2 result: Succesfully caught error')\n",
    "\n",
    "good_if_prog = \"\"\"\n",
    "if 5 == 6:\n",
    "    x = 0\n",
    "else:\n",
    "    x = 1\n",
    "x = 2\n",
    "\"\"\"\n",
    "\n",
    "print('Test 3 result:', tc_stmts(parse(good_if_prog).stmts))\n",
    "\n",
    "error_if_prog = \"\"\"\n",
    "if 5 == 6:\n",
    "    y = 5\n",
    "else:\n",
    "    y = True\n",
    "\"\"\"\n",
    "\n",
    "try:\n",
    "    print(tc_stmts(parse(error_if_prog).body))\n",
    "except:\n",
    "    print('Test 4 result: Succesfully caught error')\n"
   ]
  },
  {
   "cell_type": "markdown",
   "metadata": {},
   "source": [
    "----"
   ]
  },
  {
   "cell_type": "markdown",
   "metadata": {},
   "source": [
    "# RCO"
   ]
  },
  {
   "cell_type": "markdown",
   "metadata": {},
   "source": [
    "## Question 12\n",
    "\n",
    "How do we handle `if` statements in rco?"
   ]
  },
  {
   "cell_type": "markdown",
   "metadata": {},
   "source": [
    "YOUR ANSWER HERE"
   ]
  }
 ],
 "metadata": {
  "kernelspec": {
   "display_name": "Python 3 (ipykernel)",
   "language": "python",
   "name": "python3"
  },
  "language_info": {
   "codemirror_mode": {
    "name": "ipython",
    "version": 3
   },
   "file_extension": ".py",
   "mimetype": "text/x-python",
   "name": "python",
   "nbconvert_exporter": "python",
   "pygments_lexer": "ipython3",
   "version": "3.10.8"
  }
 },
 "nbformat": 4,
 "nbformat_minor": 4
}
