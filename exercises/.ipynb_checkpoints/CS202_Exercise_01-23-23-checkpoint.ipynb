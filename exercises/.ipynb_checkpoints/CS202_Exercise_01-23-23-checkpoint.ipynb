{
 "cells": [
  {
   "cell_type": "markdown",
   "metadata": {},
   "source": [
    "# CS202: Compiler Construction\n",
    "\n",
    "## In-class Exercises, Week of 01/23/2023"
   ]
  },
  {
   "cell_type": "markdown",
   "metadata": {},
   "source": [
    "----"
   ]
  },
  {
   "cell_type": "markdown",
   "metadata": {},
   "source": [
    "# Part 1: Lvar"
   ]
  },
  {
   "cell_type": "markdown",
   "metadata": {},
   "source": [
    "## Question 1\n",
    "\n",
    "Write an interpreter `eval_lvar` for the `Lvar` language. Reference the grammar: Figure 2.2 (page 14) in the textbook, and our simplified AST in the [Assignment 2 Description](https://github.com/jnear/cs202-compiler-construction/blob/master/homework/hw2.md)."
   ]
  },
  {
   "cell_type": "code",
   "execution_count": 12,
   "metadata": {},
   "outputs": [],
   "source": [
    "from typing import Dict\n",
    "from cs202_support.python import *\n",
    "\n",
    "# op ::= \"add\"\n",
    "# Expr ::= Var(x) | Constant(n) | Prim(op, [Expr])\n",
    "# Stmt ::= Assign(x, Expr) | Print(Expr)\n",
    "# LVar ::= Program([Stmt])\n",
    "# Structure\n",
    "# it a pattern to stucture of the interpreter\n",
    "# 1. create a new nested function for each left hand side of the grammer\n",
    "# 2. in each nested function , match the argument\n",
    "# 3. add a match case for each right-hand side of the grammer\n",
    "\n",
    "def eval_lvar(program: Program):\n",
    "    def eval_stmt(s: Stmt, env: Dict[str, int]):\n",
    "        match s:\n",
    "            case Assign(x, e):\n",
    "                env[x] = eval_expr(e, env) \n",
    "            case Print(e):\n",
    "                v = eval_expr(e, env)\n",
    "                print(v)\n",
    "     \n",
    "    def eval_expr(e: Expr, env: Dict[str, int]) -> int:\n",
    "        match e:\n",
    "            case Var(x): # match variable to values\n",
    "                return env[x]\n",
    "            case Constant(n):\n",
    "                return n\n",
    "            case Prim('add', [e1, e2]): # add is a primitive, e1 and e2 are variables\n",
    "                val1 = eval_expr(e1, env) # here it is converting into numbers to add\n",
    "                val2 = eval_expr(e2, env)\n",
    "                return val1 + val2\n",
    "\n",
    "\n",
    "    env = {}\n",
    "    for s in program.stmts:\n",
    "        eval_stmt(s, env)"
   ]
  },
  {
   "cell_type": "code",
   "execution_count": 13,
   "metadata": {},
   "outputs": [
    {
     "data": {
      "text/plain": [
       "5"
      ]
     },
     "execution_count": 13,
     "metadata": {},
     "output_type": "execute_result"
    }
   ],
   "source": [
    "for i in range(20):\n",
    "    x = 5\n",
    "x"
   ]
  },
  {
   "cell_type": "code",
   "execution_count": 14,
   "metadata": {},
   "outputs": [
    {
     "name": "stdout",
     "output_type": "stream",
     "text": [
      "13\n"
     ]
    }
   ],
   "source": [
    "# TEST CASE\n",
    "program = \"\"\"\n",
    "x = 5\n",
    "y = 6\n",
    "x = 7\n",
    "print(x + y)\"\"\"\n",
    "\n",
    "eval_lvar(parse(program))"
   ]
  },
  {
   "cell_type": "markdown",
   "metadata": {},
   "source": [
    "----\n",
    "# PART 2: Remove Complex Operands"
   ]
  },
  {
   "cell_type": "markdown",
   "metadata": {},
   "source": [
    "## Question 2\n",
    "\n",
    "Consider this translation of an expression to assembly language. What is wrong with it?"
   ]
  },
  {
   "cell_type": "code",
   "execution_count": 4,
   "metadata": {},
   "outputs": [],
   "source": [
    "python = \"\"\"\n",
    "x = 1 + 2 + 3\n",
    "\"\"\"\n",
    "\n",
    "asm = \"\"\"\n",
    "movq $2, %rax\n",
    "addq $1, (addq $3, %rax)\n",
    "\"\"\""
   ]
  },
  {
   "cell_type": "markdown",
   "metadata": {},
   "source": [
    "Assembly language doesn't do nested instructiuons. Arguments need to be \"atomic\".\n",
    "\n",
    "atomic:\n",
    "- Register\n",
    "- Memory Location\n",
    "- Constant"
   ]
  },
  {
   "cell_type": "markdown",
   "metadata": {},
   "source": [
    "## Question 3\n",
    "\n",
    "Which AST nodes in the language `Lvar` are **atomic**?"
   ]
  },
  {
   "cell_type": "markdown",
   "metadata": {},
   "source": [
    "- Var(x)\n",
    "- Constatnt(n)\n",
    "\n",
    "Prim is not atomic as ithas sub-expressions"
   ]
  },
  {
   "cell_type": "markdown",
   "metadata": {},
   "source": [
    "## Question 4\n",
    "\n",
    "Why do we need this pass? What is the form of its output?"
   ]
  },
  {
   "cell_type": "markdown",
   "metadata": {},
   "source": [
    "- this pass un-tests nested expressions, because you can't have nested expressions in x86 assembly language\n",
    "- the output of thsi pass will have primitives with only atomic arguments\n",
    "- this format is called A-normal form mon"
   ]
  },
  {
   "cell_type": "markdown",
   "metadata": {},
   "source": [
    "## Question 5\n",
    "\n",
    "Convert the program from earlier into A-normal form."
   ]
  },
  {
   "cell_type": "code",
   "execution_count": 15,
   "metadata": {},
   "outputs": [],
   "source": [
    "python = \"\"\"\n",
    "x = 1 + 2 + 3\n",
    "\"\"\""
   ]
  },
  {
   "cell_type": "code",
   "execution_count": 16,
   "metadata": {},
   "outputs": [],
   "source": [
    "python_anf = \"\"\"\n",
    "tmp1 = 1 + 2\n",
    "x = tmp1 + 3\n",
    "\"\"\""
   ]
  },
  {
   "cell_type": "markdown",
   "metadata": {},
   "source": [
    "## Question 6\n",
    "\n",
    "Describe a recursive procedure to perform the *remove-complex-opera* pass. Reference section 2.4 in the textbook."
   ]
  },
  {
   "cell_type": "markdown",
   "metadata": {},
   "source": [
    "Structure will follow the structure of the grammer\n",
    "\n",
    "- rco exp compiles an expression\n",
    "    - Constant or Var expression : just return it\n",
    "    - Prim expression: \n",
    "        - For each argument to the prim, create a new temporary variable (if needed) and bind it to the result of compiling the Argument expression.\n",
    "        - We can store new bindingd in an environment L str -> Expr\n",
    "        \n",
    "- rco stmt compiles a statement\n",
    "    - Assignment(x, e): call rco_exp on e\n",
    "    - Print(e): call rco_exp on e\n",
    "    - Challenge: what about binding?\n",
    "    \n",
    "- rco stmts compiles a list of statements\n",
    "    - For each stmt\n",
    "        - call rco_stmt on the statement\n",
    "        - turn the binding that were created into assignment statements"
   ]
  },
  {
   "cell_type": "markdown",
   "metadata": {},
   "source": [
    "----\n",
    "# Part 3: Select-instructions\n",
    "\n",
    "The select-instructions pass transforms a sequence of statements into X86 assembly instructions."
   ]
  },
  {
   "cell_type": "markdown",
   "metadata": {},
   "source": [
    "## Question 7\n",
    "\n",
    "Convert the following `Lvar` code into a psuedo-x86 assembly program.\n",
    "\n",
    "```\n",
    "Module([Assign([Name(\"y\")], Constant(5)),\n",
    "        Assign([Name(\"x\")], Name(\"y\")),\n",
    "        Expr(Call(Name(\"print\"), [Name(\"x\")]))\n",
    "])\n",
    "```"
   ]
  },
  {
   "cell_type": "markdown",
   "metadata": {},
   "source": [
    "Monday"
   ]
  },
  {
   "cell_type": "markdown",
   "metadata": {},
   "source": [
    "## Question 8\n",
    "\n",
    "Describe the structure of select-instructions."
   ]
  },
  {
   "cell_type": "markdown",
   "metadata": {},
   "source": [
    "Monday"
   ]
  }
 ],
 "metadata": {
  "kernelspec": {
   "display_name": "Python 3 (ipykernel)",
   "language": "python",
   "name": "python3"
  },
  "language_info": {
   "codemirror_mode": {
    "name": "ipython",
    "version": 3
   },
   "file_extension": ".py",
   "mimetype": "text/x-python",
   "name": "python",
   "nbconvert_exporter": "python",
   "pygments_lexer": "ipython3",
   "version": "3.10.8"
  }
 },
 "nbformat": 4,
 "nbformat_minor": 4
}
